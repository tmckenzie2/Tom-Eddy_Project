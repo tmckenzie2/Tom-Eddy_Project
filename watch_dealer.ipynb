{
 "cells": [
  {
   "cell_type": "markdown",
   "metadata": {},
   "source": [
    "# Watch Dealer\n",
    "### Programmers: Tom McKenzie, Eddy Nassif\n",
    "### Class: Data Mining, Spring 2019\n",
    "### Final Project\n",
    "\n",
    "\n",
    "\n",
    "# Getting Started\n",
    "Our project aims to help consumers find the best deals on a given product based on previous price history and it’s trend for the past 90 days. We will be focusing on Rolex wristwatches, and will be using a variety of classification methods to help forecast pricing and ultimately decide whether or not the price for a current listing is a good or bad deal. The dataset will be created by using Ebay’s API to get data on previously sold listings. \n",
    "\n",
    "## The Data\n",
    "We will be acquiring our data using Ebay's API. This API is easy to use and makes grabbing previous sales easy! However, no dataset is perfect, and we had to go through hefty pre-processing to get the data reaedy. There were three steps to our data collection: Gathering, Cleaning, and Classifying.\n",
    "\n",
    "#### Gathering the data:\n",
    "Like we said earlier, data gathering was completed using Ebay's API. [Here](https://developer.ebay.com/docs) is a link to the documentation if you want to investigate further.\n",
    "\n",
    "\n",
    "Below is the function we used to send a response to Ebay's API. As you can see, we pass in some keywords, sort the results from newest to oldest, ask for 100 entries per page, give it a page number, and a minimum and maximum price for previously sold listings. We use minimum and maximum price as a screen for watch parts and accessories. By setting a mininum price at a level that no Rolex will go under, we save a lot of time in cleaning."
   ]
  },
  {
   "cell_type": "code",
   "execution_count": 7,
   "metadata": {},
   "outputs": [],
   "source": [
    "def response(Keywords, pageNum, minPrice, maxPrice, api):\n",
    "    response = api.execute('findCompletedItems', {\n",
    "        'keywords': Keywords,\n",
    "        'sortOrder': 'EndTimeLatest',\n",
    "        'paginationInput': {'entriesPerPage': '100',\n",
    "                            'pageNumber': pageNum},\n",
    "        'itemFilter': [\n",
    "            # {'name': 'Condition', 'value': condition},\n",
    "            {'name': 'SoldItemsOnly', 'value': True},\n",
    "            {'name': 'MinPrice', 'value': minPrice},\n",
    "            {'name': 'MaxPrice', 'value': maxPrice}\n",
    "        ]\n",
    "    }\n",
    "                           )\n",
    "    return response"
   ]
  },
  {
   "cell_type": "markdown",
   "metadata": {},
   "source": [
    "As with any API, you need an API Key. We are sharing an API key, and we will be including ours as a means of demonstration. If you would like to try this project for yourself, please register for your own API key."
   ]
  },
  {
   "cell_type": "code",
   "execution_count": 22,
   "metadata": {},
   "outputs": [],
   "source": [
    "from ebaysdk.finding import Connection as finding\n",
    "api = finding(appid='EddyNass-Scraper-PRD-651ca6568-7ae32d61', config_file=None)"
   ]
  },
  {
   "cell_type": "markdown",
   "metadata": {},
   "source": [
    "Now that we have set the parameters for the API, we can send a request! Let's gather all the items on the first four pages, 400 items in total."
   ]
  },
  {
   "cell_type": "code",
   "execution_count": 21,
   "metadata": {},
   "outputs": [
    {
     "data": {
      "text/plain": [
       "[<item><itemid>254217635900</itemid><title>2005 Unique Rolex Explorer 114270 Black PVD / DLC</title><globalid>EBAY-US</globalid><primarycategory><categoryid>31387</categoryid><categoryname>Wristwatches</categoryname></primarycategory><galleryurl>http://thumbs1.ebaystatic.com/m/mpdOrwj6IVbG2M_ae6sI2cg/140.jpg</galleryurl><viewitemurl>http://www.ebay.com/itm/2005-Unique-Rolex-Explorer-114270-Black-PVD-DLC-/254217635900</viewitemurl><paymentmethod>PayPal</paymentmethod><autopay>false</autopay><postalcode>33132</postalcode><location>Miami,FL,USA</location><country>US</country><shippinginfo><shippingservicecost currencyid=\"USD\">65.0</shippingservicecost><shippingtype>Flat</shippingtype><shiptolocations>Worldwide</shiptolocations><expeditedshipping>true</expeditedshipping><onedayshippingavailable>false</onedayshippingavailable><handlingtime>2</handlingtime></shippinginfo><sellingstatus><currentprice currencyid=\"USD\">4050.0</currentprice><convertedcurrentprice currencyid=\"USD\">4050.0</convertedcurrentprice><bidcount>27</bidcount><sellingstate>EndedWithSales</sellingstate></sellingstatus><listinginfo><bestofferenabled>false</bestofferenabled><buyitnowavailable>false</buyitnowavailable><starttime>2019-05-02T09:53:30.000Z</starttime><endtime>2019-05-09T00:40:02.000Z</endtime><listingtype>Auction</listingtype><gift>false</gift><watchcount>95</watchcount></listinginfo><returnsaccepted>false</returnsaccepted><condition><conditionid>3000</conditionid><conditiondisplayname>Pre-owned</conditiondisplayname></condition><ismultivariationlisting>false</ismultivariationlisting><topratedlisting>false</topratedlisting></item>]"
      ]
     },
     "execution_count": 21,
     "metadata": {},
     "output_type": "execute_result"
    }
   ],
   "source": [
    "from bs4 import BeautifulSoup\n",
    "\n",
    "Keywords = \"Rolex Wristwatch\"\n",
    "minPrice = 3000\n",
    "maxPrice = 12000\n",
    "pageNum = 1\n",
    "# Collect all items from ebay on page1 through 4\n",
    "while pageNum <= 4:\n",
    "    soup = BeautifulSoup(response(Keywords, pageNum, minPrice, maxPrice, api).content, 'lxml')\n",
    "    if pageNum == 1:\n",
    "        items = soup.find_all('item')\n",
    "    else:\n",
    "        items += soup.find_all('item')\n",
    "    pageNum += 1\n",
    "items[:1]"
   ]
  },
  {
   "cell_type": "markdown",
   "metadata": {},
   "source": [
    "Ew! The result doesn't look too pretty! We even had to shorten it significantly so it didn't take up the whole notebook! What's happening here is that \"items\" is collecting all of the information that Ebay is sending us, but we can parse it out using BeautifulSoup. To keep only the necessary attributes, we wrote a function called get_attribtues. Note: Collecting this data takes a long time to run, about 15 minutes. Since it takes so long to run, we will only be using the first few lines in the Jupyter Notebook, but our project comes with an already compiled data set."
   ]
  },
  {
   "cell_type": "code",
   "execution_count": 42,
   "metadata": {},
   "outputs": [],
   "source": [
    "def get_attributes(items, index, df):\n",
    "    for item in items[:3]:\n",
    "        price = int(round(float(item.currentprice.string)))\n",
    "        dateSold = item.endtime.string\n",
    "        dt = parse(dateSold)\n",
    "        date = dt.date()\n",
    "        url = item.viewitemurl.string.lower()\n",
    "        cond = item.conditiondisplayname.string.lower()\n",
    "        listingType = item.listingtype.string\n",
    "        start = item.starttime.string\n",
    "        dt = parse(start)\n",
    "        start = dt.date()\n",
    "\n",
    "        # movement, brand, case material, and band material attributes for each item\n",
    "        # if the attributes are left out of the e-bay pages ITEM SPECIFICS then they\n",
    "        # will be returned as NULL\n",
    "\n",
    "        MPN = get_details(get_page(url), \"MPN:\")\n",
    "        movement = get_details(get_page(url), \"Movement:\")\n",
    "        model = get_details(get_page(url), \"Model:\")\n",
    "        case_material = get_details(get_page(url), \"Case Material:\")\n",
    "        band_material = get_details(get_page(url), \"Band Material:\")\n",
    "\n",
    "        try:\n",
    "            shipping = int(round(float(item.shippingservicecost.string)))\n",
    "            total = price + shipping\n",
    "        except:\n",
    "            total = price\n",
    "\n",
    "        # push data to df\n",
    "        df.loc[index] = [date, total, price, cond, MPN, movement, case_material, band_material, model, listingType,\n",
    "                         start, url]\n",
    "        index += 1\n",
    "\n",
    "    return df"
   ]
  },
  {
   "cell_type": "markdown",
   "metadata": {},
   "source": [
    "get_attributes uses get_details, which is used to search the item description and extract attributes such as model, case material, etc. These are attributes we could not extract with the api alone. Get_details also calls get_page, which requests the URL and makes it ready to parse the html. "
   ]
  },
  {
   "cell_type": "code",
   "execution_count": 43,
   "metadata": {},
   "outputs": [],
   "source": [
    "def get_page(url):\n",
    "    response = requests.get(url, headers={'Connection': 'close'})\n",
    "    soup = BeautifulSoup(response.text, 'lxml')\n",
    "    return soup\n",
    "\n",
    "\n",
    "def get_details(url, att_name):\n",
    "    att_description = \"NULL\"\n",
    "    data = []\n",
    "    table = url.find(attrs={'class': 'section'})\n",
    "    if table is not None:\n",
    "        rows = table.findAll('tr')\n",
    "        for row in rows:\n",
    "            cols = row.findAll('td')\n",
    "            cols = [ele.text.strip() for ele in cols]\n",
    "            data.append([ele for ele in cols if ele])\n",
    "    for i in data:\n",
    "        if i[:1] == [att_name]:\n",
    "            att_description = i[1]\n",
    "        elif i[2:3] == [att_name]:\n",
    "            att_description = i[3]\n",
    "\n",
    "    return att_description"
   ]
  },
  {
   "cell_type": "markdown",
   "metadata": {},
   "source": [
    "When we run our items through get_attributes, the results are much more neat!"
   ]
  },
  {
   "cell_type": "code",
   "execution_count": 44,
   "metadata": {},
   "outputs": [
    {
     "data": {
      "text/html": [
       "<div>\n",
       "<style scoped>\n",
       "    .dataframe tbody tr th:only-of-type {\n",
       "        vertical-align: middle;\n",
       "    }\n",
       "\n",
       "    .dataframe tbody tr th {\n",
       "        vertical-align: top;\n",
       "    }\n",
       "\n",
       "    .dataframe thead th {\n",
       "        text-align: right;\n",
       "    }\n",
       "</style>\n",
       "<table border=\"1\" class=\"dataframe\">\n",
       "  <thead>\n",
       "    <tr style=\"text-align: right;\">\n",
       "      <th></th>\n",
       "      <th>date</th>\n",
       "      <th>total</th>\n",
       "      <th>price</th>\n",
       "      <th>condition</th>\n",
       "      <th>MPN</th>\n",
       "      <th>movement</th>\n",
       "      <th>case material</th>\n",
       "      <th>band material</th>\n",
       "      <th>model</th>\n",
       "      <th>listingType</th>\n",
       "      <th>start</th>\n",
       "      <th>url</th>\n",
       "    </tr>\n",
       "  </thead>\n",
       "  <tbody>\n",
       "    <tr>\n",
       "      <th>0</th>\n",
       "      <td>2019-05-09</td>\n",
       "      <td>4115.0</td>\n",
       "      <td>4050.0</td>\n",
       "      <td>pre-owned</td>\n",
       "      <td>114270</td>\n",
       "      <td>Mechanical (Automatic)</td>\n",
       "      <td>Stainless Steel</td>\n",
       "      <td>Stainless Steel</td>\n",
       "      <td>Rolex Explorer</td>\n",
       "      <td>Auction</td>\n",
       "      <td>2019-05-02</td>\n",
       "      <td>http://www.ebay.com/itm/2005-unique-rolex-expl...</td>\n",
       "    </tr>\n",
       "    <tr>\n",
       "      <th>1</th>\n",
       "      <td>2019-05-09</td>\n",
       "      <td>5965.0</td>\n",
       "      <td>5900.0</td>\n",
       "      <td>pre-owned</td>\n",
       "      <td>16233</td>\n",
       "      <td>Mechanical (Automatic)</td>\n",
       "      <td>Stainless Steel &amp; 18K Gold</td>\n",
       "      <td>Stainless Steel &amp; 18K Gold</td>\n",
       "      <td>Datejust</td>\n",
       "      <td>Auction</td>\n",
       "      <td>2019-05-02</td>\n",
       "      <td>http://www.ebay.com/itm/2001-rolex-16238-datej...</td>\n",
       "    </tr>\n",
       "    <tr>\n",
       "      <th>2</th>\n",
       "      <td>2019-05-09</td>\n",
       "      <td>7600.0</td>\n",
       "      <td>7600.0</td>\n",
       "      <td>pre-owned</td>\n",
       "      <td>Does Not Apply</td>\n",
       "      <td>Swiss Automatic</td>\n",
       "      <td>Stainless Steel</td>\n",
       "      <td>Stainless Steel</td>\n",
       "      <td>Submariner</td>\n",
       "      <td>FixedPrice</td>\n",
       "      <td>2019-04-11</td>\n",
       "      <td>http://www.ebay.com/itm/rolex-submariner-16610...</td>\n",
       "    </tr>\n",
       "  </tbody>\n",
       "</table>\n",
       "</div>"
      ],
      "text/plain": [
       "         date   total   price  condition             MPN  \\\n",
       "0  2019-05-09  4115.0  4050.0  pre-owned          114270   \n",
       "1  2019-05-09  5965.0  5900.0  pre-owned           16233   \n",
       "2  2019-05-09  7600.0  7600.0  pre-owned  Does Not Apply   \n",
       "\n",
       "                 movement               case material  \\\n",
       "0  Mechanical (Automatic)             Stainless Steel   \n",
       "1  Mechanical (Automatic)  Stainless Steel & 18K Gold   \n",
       "2         Swiss Automatic             Stainless Steel   \n",
       "\n",
       "                band material           model listingType       start  \\\n",
       "0             Stainless Steel  Rolex Explorer     Auction  2019-05-02   \n",
       "1  Stainless Steel & 18K Gold        Datejust     Auction  2019-05-02   \n",
       "2             Stainless Steel      Submariner  FixedPrice  2019-04-11   \n",
       "\n",
       "                                                 url  \n",
       "0  http://www.ebay.com/itm/2005-unique-rolex-expl...  \n",
       "1  http://www.ebay.com/itm/2001-rolex-16238-datej...  \n",
       "2  http://www.ebay.com/itm/rolex-submariner-16610...  "
      ]
     },
     "execution_count": 44,
     "metadata": {},
     "output_type": "execute_result"
    }
   ],
   "source": [
    "import pandas as pd\n",
    "from dateutil.parser import parse\n",
    "\n",
    "index = 0\n",
    "# Declare data frame\n",
    "df = pd.DataFrame(columns=('date', 'total', 'price', 'condition', 'MPN', 'movement', 'case material',\n",
    "                           'band material', 'model', 'listingType', 'start', 'url'), dtype=float)\n",
    "\n",
    "df = get_attributes(items, index, df)\n",
    "df"
   ]
  },
  {
   "cell_type": "markdown",
   "metadata": {},
   "source": [
    "As you can see, this data looks a lot better! This is the basic method we used for gathering our data. Next, we had to clean the data.\n",
    "\n",
    "### Cleaning the Data\n",
    "The main issue with our data was the model number. To classify the data appropriately, we needed consistent model names throughout the dataset. Unfortunately, this doesn't look so pretty. We needed to account for every possible misspelling or variation for each name, and correct it. This process needed to be repeated for the model name, band material, and watch movement. Common mistakes would be just saying \"plat\" instead of platinum for the band material, or Datejust 2 instead of Datejust II. \n",
    "\n",
    "To tackle this issue, we changed all words to lowercase using casefold(), then used if else statements to correct and check for incorrect values. Example code looks like this:"
   ]
  },
  {
   "cell_type": "code",
   "execution_count": 46,
   "metadata": {},
   "outputs": [],
   "source": [
    "def clean_case_material(case_col):\n",
    "    clean_case_col = []\n",
    "    for i in case_col:\n",
    "        if \"plati\".casefold() in i.casefold():\n",
    "            clean_case_col.append('Platinum')\n",
    "        elif \"14\".casefold() in i.casefold():\n",
    "            clean_case_col.append('14k Gold')"
   ]
  },
  {
   "cell_type": "markdown",
   "metadata": {},
   "source": [
    "We ran a variation of the above code for every possible model, movement, and band material we could find. After the attributes were normalized, we were able to join the cleaned dataset with our market value dataset and be classified.\n",
    "\n",
    "### Classifying the Data\n",
    "When you purchase something, the person selling you the item won't tell you if you are getting a good or bad deal. It is up to the customer to decide. However, when we are trying to build a classifier for watch valuation, we need to agree on what is a good and bad deal. To set market values, we used [Bob's Watches](https://www.bobswatches.com/used-rolex-prices) as a baseline for whether or not the ebay sale was a good or bad deal. \n",
    "\n",
    "After downloading the Bob's Watches dataset, we were able to use that dataset with our cleaned ebay dataset and classify each listing as a good or bad deal."
   ]
  },
  {
   "cell_type": "code",
   "execution_count": 48,
   "metadata": {},
   "outputs": [],
   "source": [
    "def classify_deal():\n",
    "    table = u.read_csv('rolex_prices_data.csv')\n",
    "\n",
    "    price_col = u.get_column(table,1)\n",
    "\n",
    "    clean_prices = []\n",
    "    for price in price_col:\n",
    "        price = price.replace(',', '')\n",
    "        price = price.replace('$', '')\n",
    "        \n",
    "        clean_prices.append(price)\n",
    "\n",
    "    clean_table = []\n",
    "    count = 0\n",
    "    for row in table:\n",
    "        clean_table.append([row[0], clean_prices[count]])\n",
    "        count = count + 1\n",
    "\n",
    "    u.write_to_file(clean_table, 'rolex_prices_data_clean.csv')"
   ]
  },
  {
   "cell_type": "markdown",
   "metadata": {},
   "source": [
    "## Visualizing the Data\n",
    "Visualizing the data helps us better understand the dataset we are working with. By creating different graphs, we get to visualize metrics like the common watch model, median watch price, etc.\n",
    "\n",
    "### Most Common Watch Models\n",
    "To visualize the most common watch models, we used a histogram. The code takes in the data, counts the frequency of each watch model, then displays the results on a histogram."
   ]
  },
  {
   "cell_type": "code",
   "execution_count": 55,
   "metadata": {},
   "outputs": [
    {
     "data": {
      "text/plain": [
       "Text(0.5,0,'Model')"
      ]
     },
     "execution_count": 55,
     "metadata": {},
     "output_type": "execute_result"
    },
    {
     "data": {
      "image/png": "[encoded data removed]",
      "text/plain": [
       "<matplotlib.figure.Figure at 0x1d8c7e38d68>"
      ]
     },
     "metadata": {},
     "output_type": "display_data"
    }
   ],
   "source": [
    "import matplotlib.pyplot as plt\n",
    "import utils as u\n",
    "import operator\n",
    "\n",
    "# Variables\n",
    "myList = u.read_csv('final_training_dataset.csv')\n",
    "attribute = 'model'\n",
    "title = '5 Most Common Watch Models'\n",
    "xlabel = 'Count'\n",
    "ylabel = 'Model'\n",
    "\n",
    "plt.figure(figsize=(20, 7))\n",
    "data = myList[1:]\n",
    "col_index = u.get_index(myList, attribute)\n",
    "x, y = u.get_frequencies(data, col_index)\n",
    "\n",
    "plt.bar(x, y)\n",
    "plt.title(title.title())\n",
    "plt.ylabel(xlabel.title())\n",
    "plt.xlabel(ylabel.title())"
   ]
  },
  {
   "cell_type": "markdown",
   "metadata": {},
   "source": [
    "Looks like the Datejust is the most popular watch, followed by the Submariner. This makes sense, because these two models are the more inexpensive rolex models, and the Datejust comes in many varieties while the Submariner is regarded as one of the best \"beginner\" watches. To analyze watch prices, we used a scatter plot. This helps us identify the outliers and see where most watches are priced.  "
   ]
  },
  {
   "cell_type": "code",
   "execution_count": 56,
   "metadata": {},
   "outputs": [
    {
     "ename": "NameError",
     "evalue": "name 'label_plt' is not defined",
     "output_type": "error",
     "traceback": [
      "\u001b[1;31m---------------------------------------------------------------------------\u001b[0m",
      "\u001b[1;31mNameError\u001b[0m                                 Traceback (most recent call last)",
      "\u001b[1;32m<ipython-input-56-abfb64cf954e>\u001b[0m in \u001b[0;36m<module>\u001b[1;34m()\u001b[0m\n\u001b[0;32m     16\u001b[0m \u001b[0my\u001b[0m \u001b[1;33m=\u001b[0m \u001b[0mu\u001b[0m\u001b[1;33m.\u001b[0m\u001b[0mget_values\u001b[0m\u001b[1;33m(\u001b[0m\u001b[0mdata\u001b[0m\u001b[1;33m,\u001b[0m \u001b[0mu\u001b[0m\u001b[1;33m.\u001b[0m\u001b[0mget_index\u001b[0m\u001b[1;33m(\u001b[0m\u001b[0mmyList\u001b[0m\u001b[1;33m,\u001b[0m \u001b[0mattributeY\u001b[0m\u001b[1;33m)\u001b[0m\u001b[1;33m)\u001b[0m\u001b[1;33m\u001b[0m\u001b[0m\n\u001b[0;32m     17\u001b[0m \u001b[0mplt\u001b[0m\u001b[1;33m.\u001b[0m\u001b[0mscatter\u001b[0m\u001b[1;33m(\u001b[0m\u001b[0mx\u001b[0m\u001b[1;33m,\u001b[0m \u001b[0my\u001b[0m\u001b[1;33m,\u001b[0m \u001b[0mmarker\u001b[0m\u001b[1;33m=\u001b[0m\u001b[1;34m'.'\u001b[0m\u001b[1;33m)\u001b[0m\u001b[1;33m\u001b[0m\u001b[0m\n\u001b[1;32m---> 18\u001b[1;33m \u001b[0mlabel_plt\u001b[0m\u001b[1;33m(\u001b[0m\u001b[0mtitle\u001b[0m\u001b[1;33m,\u001b[0m \u001b[0mxLabel\u001b[0m\u001b[1;33m,\u001b[0m \u001b[0myLabel\u001b[0m\u001b[1;33m)\u001b[0m\u001b[1;33m\u001b[0m\u001b[0m\n\u001b[0m\u001b[0;32m     19\u001b[0m \u001b[1;33m\u001b[0m\u001b[0m\n\u001b[0;32m     20\u001b[0m \u001b[0mplt\u001b[0m\u001b[1;33m.\u001b[0m\u001b[0msavefig\u001b[0m\u001b[1;33m(\u001b[0m\u001b[0mfilename\u001b[0m\u001b[1;33m)\u001b[0m\u001b[1;33m\u001b[0m\u001b[0m\n",
      "\u001b[1;31mNameError\u001b[0m: name 'label_plt' is not defined"
     ]
    },
    {
     "data": {
      "image/png": "[encoded data removed]",
      "text/plain": [
       "<matplotlib.figure.Figure at 0x1d8c780c198>"
      ]
     },
     "metadata": {},
     "output_type": "display_data"
    }
   ],
   "source": [
    "import matplotlib.pyplot as plt\n",
    "import utils as u\n",
    "import operator\n",
    "\n",
    "# Variables\n",
    "myList = u.read_csv('final_training_dataset.csv')\n",
    "attributeX = 'model'\n",
    "attributeY = 'price'\n",
    "title = 'Watch Prices'\n",
    "xlabel = 'Model'\n",
    "ylabel = 'Price'\n",
    "\n",
    "plt.figure(figsize=(20, 7))\n",
    "data = myList[1:]\n",
    "x = u.get_values(data, u.get_index(myList, attributeX))\n",
    "y = u.get_values(data, u.get_index(myList, attributeY))\n",
    "plt.scatter(x, y, marker='.')\n",
    "plt.close()"
   ]
  },
  {
   "cell_type": "markdown",
   "metadata": {},
   "source": [
    "## Analyzing the Data\n",
    "\n",
    "Now that we have a clean data set, we can use different classification methods to analyze the data. Let's start with really basic classifiers, Zero-R and Random Selection. Both of these classifiers can be found in \"wild_card_classifiers.py\"\n",
    "\n",
    "### Wild Card Classifiers\n",
    "#### Zero-R\n",
    "Zero-R was selected to test the hypothesis \"Past results indicate future results\". In other words, if a watch has been going up in value, it will continue to go up in value. To test this hypothesis, we used the Zero-R classifier, which classifies every instance by the most popular class in the dataset. With our dataset of 1030 items, Zero-R had an accuracy of 57%. This doesn't make Zero-R a strong classifier, but it makes it better than random choice!\n",
    "\n",
    "#### Random Choice\n",
    "Random choice tests the hypothesis that the market moves in \"random walks\". A watch can move up or down in value with no rhyme or reason, it's all random. A watch that was worthless can skyrocket tomorrow, or vice versa. To test this hypothesis, we used the random choice method, which assigns a class at random. Even with only two classes to choose from, random choice's accuracy hovered between 30-35%. Absolutely terrible. Not surprising.\n",
    "\n",
    "### Traditional Classifiers\n",
    "Next, we used the more traditional classifiers \"linear regression\", \"knn\", and \"naive bayes\". We hypothesized that these more sophisticated classification methods would perform better than our \"wild card\" classification methods. Even with random selection of instances, both of these classifiers worked better than the wild card calssifiers.\n",
    "\n",
    "#### Linear regression\n",
    "For linear regression, we used random choice for instance selection and price as our attribute. Since we used random choice, our results would vary every time. To limit this variance, we ran 500 trials selecting 100 random instances with each trial. Our results were 59% accuracy. This is marginally better than Zero-R, but not that great.\n",
    "\n",
    "#### K-NN\n",
    "For K-NN, we \n",
    "\n",
    "#### Naive Bayes\n",
    "For Naive Bayes, we rated prices in \\$500 sections. So instead of \"Good Deal\" and \"Bad Deal\", we had ratings 1-26 with one being \\$2000-2499 and 26 being \\$15,500-16,000. Our results were\n"
   ]
  },
  {
   "cell_type": "code",
   "execution_count": null,
   "metadata": {},
   "outputs": [],
   "source": []
  }
 ],
 "metadata": {
  "kernelspec": {
   "display_name": "Python 3",
   "language": "python",
   "name": "python3"
  },
  "language_info": {
   "codemirror_mode": {
    "name": "ipython",
    "version": 3
   },
   "file_extension": ".py",
   "mimetype": "text/x-python",
   "name": "python",
   "nbconvert_exporter": "python",
   "pygments_lexer": "ipython3",
   "version": "3.6.4"
  }
 },
 "nbformat": 4,
 "nbformat_minor": 2
}
